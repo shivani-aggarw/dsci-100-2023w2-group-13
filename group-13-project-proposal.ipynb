{
 "cells": [
  {
   "cell_type": "markdown",
   "id": "d4494bc9-a71a-4d66-b62e-9c7f115b0830",
   "metadata": {},
   "source": [
    "# Group 13 Project Proposal"
   ]
  },
  {
   "cell_type": "markdown",
   "id": "f40f7c46-77d5-48b2-b477-c77ec14a8f03",
   "metadata": {},
   "source": [
    "## Shop Consumer Data\n",
    "\n",
    "### Introduction\n",
    "The Shop Consumer Data provides information about an imaginative shop's ideal customers. This dataset is collected to understand the profiles of customer segments that the shop would target and cater to so that it can better serve them. The following information is sourced through membership cards. This dataset was downloaded from Kaggle from an open source repositary? where the data is updated every month.\n",
    "\n",
    "The columns in the dataset are:\n",
    "* CustomerID - Identification\n",
    "* Gender - Gender of a customer\n",
    "* Age - Age of a customer\n",
    "* Annual Income ($) - Annual Income of a customer in dollars\n",
    "* Spending Score (1-100) - Score assigned by the shop, based on customer behavior and spending nature\n",
    "* Profession - Profession of a customer\n",
    "* Work Experience - Number of years of work experience of a customer\n",
    "* Family Size - Number of family members of a customer\n",
    "\n",
    "We want to predict the profession of a customer if we have information about their age and their annual income. Generally speaking, since age and annual income are positively correlated, (we could use the regression analysis to predict the profession). The annual income is largely dependent on the profession and the knowledge of a potential customer's profession would help the shop to address their needs differently. The customization of services could lead to a more satisfactory customer experience and will be the first step in building brand loyalty."
   ]
  },
  {
   "cell_type": "markdown",
   "id": "6d3240aa-e224-4520-83b8-66393b23da8f",
   "metadata": {},
   "source": [
    "### Preliminary exploratory data analysis\n",
    "\n",
    "#### **Reading the dataset into Python**\n",
    "First, we will import the dataset into Python to have get an idea of what we are dealing with."
   ]
  },
  {
   "cell_type": "code",
   "execution_count": null,
   "id": "4ecfa7bb-3c32-4b68-8322-1dccb4439d3a",
   "metadata": {},
   "outputs": [],
   "source": []
  }
 ],
 "metadata": {
  "kernelspec": {
   "display_name": "Python 3 (ipykernel)",
   "language": "python",
   "name": "python3"
  },
  "language_info": {
   "codemirror_mode": {
    "name": "ipython",
    "version": 3
   },
   "file_extension": ".py",
   "mimetype": "text/x-python",
   "name": "python",
   "nbconvert_exporter": "python",
   "pygments_lexer": "ipython3",
   "version": "3.10.8"
  }
 },
 "nbformat": 4,
 "nbformat_minor": 5
}
