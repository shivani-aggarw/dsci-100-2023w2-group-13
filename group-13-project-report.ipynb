{
 "cells": [
  {
   "cell_type": "markdown",
   "id": "c726d36c-b485-45c5-8533-3226b403767f",
   "metadata": {},
   "source": [
    "# Group 13 Project Report"
   ]
  },
  {
   "cell_type": "markdown",
   "id": "3b80ba89-ac24-48b5-adee-b87ae2b61fbd",
   "metadata": {},
   "source": [
    "## Real Estate Valuation\n",
    "\n",
    "### Introduction\n",
    "The UCI machine learning repository offers a real estate valuation dataset from professor Prof. I-Cheng Yeh at TamKang University. The dataset can be accessed via https://archive.ics.uci.edu/ml/datasets/Real+estate+valuation+data+set.\n",
    "\n",
    "It contains historical data from the real estate market in Sindian District, New Taipei City, spanning 2012-2013. Each row represents a property transaction record with corresponding feature columns. The dataset includes 414 property sales records. It is collected to understand how 6 different factors impact the house price of unit area. This dataset was downloaded from Data Science Dojo from an open source repository. \n",
    "\n",
    "The dataset has no null ratios and 414 rows and 7 columns which are:\n",
    "* **X1 transaction Date:** The transaction date (for example, 2013.250=2013 March, 2013.500=2013 June, etc.). It is a qualitative data type.\n",
    "* **X2 house age:** The age of the house in years. It is a quantitative data type. \n",
    "* **X3 distance to the nearest MRT station:** The distance to the nearest mass rapid transportation in metres. It is a quantitative data type.\n",
    "* **X4 number of convenience stores:** The number of convenience stores in the living circle on foot. It is a quantitative data type.\n",
    "* **X5 latitude:** The geographic coordinate, latitude, in degrees. It is a quantitative data type.\n",
    "* **X6 longitude:** The geographic coordinate, longitude, in degrees.  It is a quantitative data type.\n",
    "* **Y house price of unit area:** The house price of unit area (10000 New Taiwan Dollar/Ping, where Ping is a local unit, 1 Ping = 3.3 meter squared) for example, 29.3 = 293,000 New Taiwan Dollar/Ping. It is a quantitative data type.\n",
    "\n",
    "\n",
    "We want to be able to predict the price of a house using the house age, distance from the nearest metro station and proximity to convenience stores. We plan to plot the variables against the price of the house individually to determine the relationship between them and the price of the house and then perform a regression analysis. This would help us identify which variables have the greatest impact on the price of the house. This data analysis would help identify the factors which matter most when determining the price of the house and the specific extent to which these factors impact price. "
   ]
  },
  {
   "cell_type": "code",
   "execution_count": null,
   "id": "06f4d306-8424-49b5-8dad-394eab230922",
   "metadata": {},
   "outputs": [],
   "source": []
  }
 ],
 "metadata": {
  "kernelspec": {
   "display_name": "Python 3 (ipykernel)",
   "language": "python",
   "name": "python3"
  },
  "language_info": {
   "codemirror_mode": {
    "name": "ipython",
    "version": 3
   },
   "file_extension": ".py",
   "mimetype": "text/x-python",
   "name": "python",
   "nbconvert_exporter": "python",
   "pygments_lexer": "ipython3",
   "version": "3.10.8"
  }
 },
 "nbformat": 4,
 "nbformat_minor": 5
}
